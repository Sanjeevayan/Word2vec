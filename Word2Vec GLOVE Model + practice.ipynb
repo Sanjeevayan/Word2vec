{
 "cells": [
  {
   "cell_type": "code",
   "execution_count": 17,
   "metadata": {},
   "outputs": [],
   "source": [
    "dataframe = pd.read_csv(\"/Users/kumarsanjeev/Desktop/anshuldataframe.csv\")\n",
    "\n",
    "dataframe = dataframe.loc[: , ['Text_Train_Cleaned']]"
   ]
  },
  {
   "cell_type": "code",
   "execution_count": 1,
   "metadata": {},
   "outputs": [],
   "source": [
    "import gensim\n",
    "\n",
    "#Load Google's word2vec Model\n",
    "model = gensim.models.KeyedVectors.load_word2vec_format(\"/Users/kumarsanjeev/Downloads/GoogleNews-vectors-negative300.bin\",binary = True)\n",
    "\n"
   ]
  },
  {
   "cell_type": "code",
   "execution_count": 2,
   "metadata": {},
   "outputs": [],
   "source": [
    "# sent = \"I want a laptop\".split()\n",
    "list1 = model.similar_by_word('laptop' ,topn=20)\n",
    "list2 = model.similar_by_word('want', topn=20)"
   ]
  },
  {
   "cell_type": "code",
   "execution_count": 3,
   "metadata": {},
   "outputs": [
    {
     "name": "stdout",
     "output_type": "stream",
     "text": [
      "[('laptops', 0.805374026298523), ('laptop_computer', 0.7848465442657471), ('notebook', 0.67857825756073), ('netbook', 0.6707929372787476), ('computer', 0.6640493273735046), ('laptop_computers', 0.6633790731430054), ('notebook_PC', 0.6631842851638794), ('MacBook', 0.6598750352859497), ('PowerBook', 0.6520565152168274), ('Sony_Vaio_laptop', 0.6496157646179199), ('notebooks', 0.6491786241531372), ('Macbook', 0.6486797332763672), ('Laptop', 0.648013710975647), ('IBM_ThinkPad_T##', 0.6193387508392334), ('MacBook_Pro', 0.6187069416046143), ('Dell_Latitude_D###', 0.6164904832839966), ('Macbook_Pro', 0.6115914583206177), ('computers', 0.6102420091629028), ('Dell_Inspiron_laptop', 0.6090463399887085), ('notebook_computers', 0.607465386390686)]\n"
     ]
    }
   ],
   "source": [
    "print (list1)"
   ]
  },
  {
   "cell_type": "code",
   "execution_count": 4,
   "metadata": {},
   "outputs": [
    {
     "data": {
      "text/plain": [
       "(400000, 100)"
      ]
     },
     "execution_count": 4,
     "metadata": {},
     "output_type": "execute_result"
    }
   ],
   "source": [
    "\n",
    "from gensim.scripts.glove2word2vec import glove2word2vec\n",
    "\n",
    "glove_input_file=r\"/Users/kumarsanjeev/Downloads/glove.6B/glove.6B.100d.txt\"\n",
    "#word2vec_output_file = 'glove.6B.100d.txt.word2vec'\n",
    "word2vec_output_file = r\"/Users/kumarsanjeev/Downloads/output123.txt\"\n",
    "glove2word2vec(glove_input_file, word2vec_output_file)"
   ]
  },
  {
   "cell_type": "code",
   "execution_count": 9,
   "metadata": {
    "scrolled": true
   },
   "outputs": [
    {
     "name": "stdout",
     "output_type": "stream",
     "text": [
      "[('laptops', 0.8518658876419067), ('computers', 0.7559926509857178), ('phones', 0.7229112386703491), ('portable', 0.7157840728759766), ('desktop', 0.7085691690444946), ('ipod', 0.7049806714057922), ('computer', 0.7024158239364624), ('handheld', 0.6808915734291077), ('pc', 0.6762189865112305), ('cellphones', 0.6729861497879028), ('pcs', 0.6679220795631409), ('notebooks', 0.6552566885948181), ('cellphone', 0.6547548770904541), ('ipods', 0.6383972764015198), ('disks', 0.6245315074920654), ('devices', 0.616674542427063), ('wallet', 0.6128885746002197), ('pda', 0.6125856637954712), ('ipad', 0.6116741299629211), ('disk', 0.6070415377616882)]\n"
     ]
    }
   ],
   "source": [
    "from gensim.models import KeyedVectors\n",
    "# load the Stanford GloVe model\n",
    "filename = r\"/Users/kumarsanjeev/Downloads/output123.txt\"\n",
    "model = KeyedVectors.load_word2vec_format(filename, binary=False)\n",
    "# calculate: (king - man) + woman = ?\n",
    "#result = model.most_similar(positive=['woman', 'king'], negative=['man'], topn=1)\n",
    "list1 = model.similar_by_word('enterprise' ,topn=20)\n",
    "list2 = model.similar_by_word('laptop' ,topn=20)\n",
    "#print(result)\n",
    "print (list2)"
   ]
  },
  {
   "cell_type": "code",
   "execution_count": 46,
   "metadata": {},
   "outputs": [
    {
     "name": "stdout",
     "output_type": "stream",
     "text": [
      "We\n",
      "2 new PCs\n",
      "Andy Ng\n",
      "Leonard Cheong\n",
      "Singapore\n",
      "Andy\n",
      "lab machine\n",
      "replacement\n",
      "warranty\n",
      "this first one\n",
      "care\n",
      "I\n",
      "it\n",
      "Robert Latham\n",
      "he\n",
      "2 towers\n",
      "2 laptops\n",
      "The 2 machine\n",
      "they\n",
      "their own little virtualised environment\n",
      "them\n",
      "you\n",
      "me\n",
      "a suggestion\n",
      "the 2 guys\n",
      "Robert Latham\n",
      "it\n",
      "budget?Thank\n",
      "you\n",
      "best regards\n",
      "Benjamin Elzingre Team Lead\n",
      "Software\n"
     ]
    }
   ],
   "source": [
    "import spacy\n",
    "nlp = spacy.load('en_core_web_sm')\n",
    "doc = nlp(u\"Hello, We need 2 new PCs for Andy Ng and Leonard Cheong in Singapore 1 of Andy’s lab machine broke and needs replacement but is far out of warranty so this first one would need to be taken care of relatively quickly I discussed it with Robert Latham and he seems to agree that 2 towers would be better than 2 laptops The 2 machine would need to be fairly powerful so they can run their own little virtualised environment and need to be able to work on them as well Can you please send me a suggestion to discuss with the 2 guys and with Robert Latham if it is within budget?Thank you and best regards, Benjamin Elzingre Team Lead HEAT Software.\")\n",
    "for chunk in doc.noun_chunks:\n",
    "    print(chunk.text)"
   ]
  },
  {
   "cell_type": "code",
   "execution_count": 48,
   "metadata": {},
   "outputs": [
    {
     "data": {
      "text/plain": [
       "[We,\n",
       " 2 new PCs,\n",
       " Andy Ng,\n",
       " Leonard Cheong,\n",
       " Singapore,\n",
       " Andy,\n",
       " lab machine,\n",
       " replacement,\n",
       " warranty,\n",
       " this first one,\n",
       " care,\n",
       " I,\n",
       " it,\n",
       " Robert Latham,\n",
       " he,\n",
       " 2 towers,\n",
       " 2 laptops,\n",
       " The 2 machine,\n",
       " they,\n",
       " their own little virtualised environment,\n",
       " them,\n",
       " you,\n",
       " me,\n",
       " a suggestion,\n",
       " the 2 guys,\n",
       " Robert Latham,\n",
       " it,\n",
       " budget?Thank,\n",
       " you,\n",
       " best regards,\n",
       " Benjamin Elzingre Team Lead,\n",
       " Software]"
      ]
     },
     "execution_count": 48,
     "metadata": {},
     "output_type": "execute_result"
    }
   ],
   "source": [
    "list(doc.noun_chunks)"
   ]
  },
  {
   "cell_type": "code",
   "execution_count": 49,
   "metadata": {},
   "outputs": [],
   "source": [
    "text = \"Hello, We need 2 new PCs for Andy Ng and Leonard Cheong in Singapore 1 of Andy’s lab machine broke and needs replacement but is far out of warranty so this first one would need to be taken care of relatively quickly I discussed it with Robert Latham and he seems to agree that 2 towers would be better than 2 laptops The 2 machine would need to be fairly powerful so they can run their own little virtualised environment and need to be able to work on them as well Can you please send me a suggestion to discuss with the 2 guys and with Robert Latham if it is within budget?Thank you and best regards, Benjamin Elzingre Team Lead HEAT Software.\""
   ]
  },
  {
   "cell_type": "code",
   "execution_count": 50,
   "metadata": {},
   "outputs": [
    {
     "name": "stdout",
     "output_type": "stream",
     "text": [
      "['andy ng', 'leonard cheong', 'singapore 1', 'andy ’', 'lab machine', 'robert latham', 'robert latham', 'benjamin elzingre team lead heat software']\n"
     ]
    }
   ],
   "source": [
    "extractor = ConllExtractor()\n",
    "blob = TextBlob(text,np_extractor=extractor)\n",
    "print(blob.noun_phrases)"
   ]
  },
  {
   "cell_type": "code",
   "execution_count": null,
   "metadata": {},
   "outputs": [],
   "source": []
  }
 ],
 "metadata": {
  "kernelspec": {
   "display_name": "Python 3",
   "language": "python",
   "name": "python3"
  },
  "language_info": {
   "codemirror_mode": {
    "name": "ipython",
    "version": 3
   },
   "file_extension": ".py",
   "mimetype": "text/x-python",
   "name": "python",
   "nbconvert_exporter": "python",
   "pygments_lexer": "ipython3",
   "version": "3.6.5"
  }
 },
 "nbformat": 4,
 "nbformat_minor": 2
}
